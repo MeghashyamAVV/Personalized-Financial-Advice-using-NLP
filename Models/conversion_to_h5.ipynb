{
 "cells": [
  {
   "cell_type": "code",
   "execution_count": 1,
   "id": "039bdf5a-c5a4-49a0-ac5f-1d41e6426565",
   "metadata": {
    "tags": []
   },
   "outputs": [
    {
     "name": "stderr",
     "output_type": "stream",
     "text": [
      "2023-08-19 04:59:54.360460: I tensorflow/core/platform/cpu_feature_guard.cc:193] This TensorFlow binary is optimized with oneAPI Deep Neural Network Library (oneDNN) to use the following CPU instructions in performance-critical operations:  AVX2 AVX512F FMA\n",
      "To enable them in other operations, rebuild TensorFlow with the appropriate compiler flags.\n"
     ]
    }
   ],
   "source": [
    "import tensorflow as tf\n",
    "\n",
    "keras_model = tf.keras.models.load_model('bidirec_model.keras')\n",
    "\n",
    "keras_model.save('bidirec_model.h5')"
   ]
  },
  {
   "cell_type": "code",
   "execution_count": 2,
   "id": "bfc4f709-6194-4b07-8f72-4be5ff34116f",
   "metadata": {},
   "outputs": [],
   "source": [
    "import tensorflow as tf\n",
    "\n",
    "keras_model = tf.keras.models.load_model('rnn_lstm.keras')\n",
    "\n",
    "keras_model.save('rnn_lstm.h5')"
   ]
  },
  {
   "cell_type": "code",
   "execution_count": 3,
   "id": "2054c9bb-6125-450e-a468-f05c3f872491",
   "metadata": {
    "tags": []
   },
   "outputs": [],
   "source": [
    "import tensorflow as tf\n",
    "\n",
    "keras_model = tf.keras.models.load_model('simple_nn.keras')\n",
    "\n",
    "keras_model.save('simple_nn.h5')"
   ]
  }
 ],
 "metadata": {
  "kernelspec": {
   "display_name": "Python 3 (ipykernel)",
   "language": "python",
   "name": "python3"
  },
  "language_info": {
   "codemirror_mode": {
    "name": "ipython",
    "version": 3
   },
   "file_extension": ".py",
   "mimetype": "text/x-python",
   "name": "python",
   "nbconvert_exporter": "python",
   "pygments_lexer": "ipython3",
   "version": "3.10.9"
  }
 },
 "nbformat": 4,
 "nbformat_minor": 5
}
